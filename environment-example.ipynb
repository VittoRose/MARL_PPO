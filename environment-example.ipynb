{
 "cells": [
  {
   "cell_type": "markdown",
   "metadata": {},
   "source": [
    "### Import and create environment\n",
    "It's possible to create the environment like a standard gym environment with the following lines of code "
   ]
  },
  {
   "cell_type": "code",
   "execution_count": 6,
   "metadata": {},
   "outputs": [],
   "source": [
    "import gymnasium as gym\n",
    "import envs  # Import for enviroment registration\n",
    "\n",
    "env = gym.make(\"GridCoverage-v0\", n_agent=2, map_id=1)"
   ]
  },
  {
   "cell_type": "markdown",
   "metadata": {},
   "source": [
    "First of all with a new environment you need to call the reset() method, seed is optional"
   ]
  },
  {
   "cell_type": "code",
   "execution_count": 7,
   "metadata": {},
   "outputs": [],
   "source": [
    "state, _ = env.reset(seed = 92)"
   ]
  },
  {
   "cell_type": "markdown",
   "metadata": {},
   "source": [
    "To execute a step it's mandatory to pass the action as a list.\n",
    "\n",
    "The step() function is the same as other gymnasium environment, the return is different:\n",
    "\n",
    "* obs: Observation for both agents, obs[i] is the observation of agent i\n",
    "* rew: IGNORE, MARL require reward for all agent, since gymnasium return an error if a list is assigned here\n",
    "* term: Termination, flag that is true if all the tile are covered\n",
    "* trunc: Truncation, flag that is true if step > max_step = 35 \n",
    "* info: REWARD, the reward return in a dictionary "
   ]
  },
  {
   "cell_type": "code",
   "execution_count": 8,
   "metadata": {},
   "outputs": [],
   "source": [
    "action = [0,0]      # Both agent stay still\n",
    "obs, rew, term, trunc, info = env.step(action)"
   ]
  },
  {
   "cell_type": "markdown",
   "metadata": {},
   "source": [
    "To get the reward use the info dict"
   ]
  },
  {
   "cell_type": "code",
   "execution_count": 9,
   "metadata": {},
   "outputs": [
    {
     "name": "stdout",
     "output_type": "stream",
     "text": [
      "Reward for agent_0: 0 \t Reward for agent_1: 0, \n"
     ]
    }
   ],
   "source": [
    "reward_agent0 = info[0]\n",
    "reward_agent1 = info[1]\n",
    "print(f\"Reward for agent_0: {reward_agent0} \\t Reward for agent_1: {reward_agent1}, \")"
   ]
  }
 ],
 "metadata": {
  "kernelspec": {
   "display_name": "ros_env",
   "language": "python",
   "name": "python3"
  },
  "language_info": {
   "codemirror_mode": {
    "name": "ipython",
    "version": 3
   },
   "file_extension": ".py",
   "mimetype": "text/x-python",
   "name": "python",
   "nbconvert_exporter": "python",
   "pygments_lexer": "ipython3",
   "version": "3.12.3"
  }
 },
 "nbformat": 4,
 "nbformat_minor": 2
}
